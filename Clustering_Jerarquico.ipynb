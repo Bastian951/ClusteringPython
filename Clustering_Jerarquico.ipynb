{
  "nbformat": 4,
  "nbformat_minor": 0,
  "metadata": {
    "colab": {
      "name": "Clustering_Jerarquico.ipynb",
      "provenance": [],
      "collapsed_sections": [],
      "authorship_tag": "ABX9TyNHCB7abizAqWJVj7+1EB/J",
      "include_colab_link": true
    },
    "kernelspec": {
      "name": "python3",
      "display_name": "Python 3"
    },
    "language_info": {
      "name": "python"
    }
  },
  "cells": [
    {
      "cell_type": "markdown",
      "metadata": {
        "id": "view-in-github",
        "colab_type": "text"
      },
      "source": [
        "<a href=\"https://colab.research.google.com/github/Bastian951/ClusteringPython/blob/master/Clustering_Jerarquico.ipynb\" target=\"_parent\"><img src=\"https://colab.research.google.com/assets/colab-badge.svg\" alt=\"Open In Colab\"/></a>"
      ]
    },
    {
      "cell_type": "markdown",
      "metadata": {
        "id": "9uXarQaiqjTi"
      },
      "source": [
        "#**Clustering Jerárquico**\n",
        "\n",
        "Los metodos jerarquicos producen una serie de particiones donde en cada paso o dos grupos se fusionan (agrupamiento jerárquico aglomerativo) o un grupo se divide en dos grupos (agrupamiento jerárquico divisivo) de acuerdo con un criterio dado \n",
        "\n",
        "Los metodos jerarquicos se denominan clusters rigidos.\n",
        "\n"
      ]
    },
    {
      "cell_type": "markdown",
      "metadata": {
        "id": "oG0bR22uOCBE"
      },
      "source": [
        "# **Clustering Jerárquico Aglomerativo**"
      ]
    },
    {
      "cell_type": "markdown",
      "metadata": {
        "id": "ouZIPUc8OARD"
      },
      "source": [
        "El clustering jerárquico aglomerativo consiste en una serie de métodos que en cada paso unen los dos clusters mas similares. Dada una matriz de distancias $D_n$ la cual contiene distancias de $n$ clusters (inicialmente singletons) se deben seguir los siguientes pasos:\n",
        "\n",
        "1. De acuerdo a $D_n$ unimos dos unidades (clusters singleton) con la minima distancia en un nuevo cluster. Esto lleva a una partición con $n-1$ clusters.\n",
        "\n",
        "2. Computar la nueva matriz de distancia $D_{n-1}$ de tamaño $(n-1) \\times (n-1)$. Las distancias entre clusters singleton, se heredan desde la matriz original. Hay diversas alternativas para calcular la distancia entre los nuevos clusters y los restantes. (La elección distingue los métodos aglomerativos)\n",
        "\n",
        "3. Unir 2 clusters con minima distancia usando la matriz de $D_{n-1}$. Dejando una partición de $n-2$ clusters. \n",
        "\n",
        "4. Repetir 2 y 3 hasta llegar a $n=2$ y obtener una partición trivial. \n",
        "\n",
        "El punto crucial en el el método aglomerativo consiste en la distancia entre la fusión de 2 clusters y otros. Por ejemplo la distancia entre la fusión de $C_1$ y $C_2$ que denotaremos $C_{1,2}$ con el cluster $C_3$. Estos metodos está definidos por la formula **Lance-Williams**\n",
        "\n",
        "$$d(C_{1,2},C_3) = \\alpha_1 d(C_1,C_3)+\\alpha_2 d(C_2,C_3) + \\beta d(C_1,C_2)+\\gamma \\vert d(C_1,C_3)-d(C_2,C_3)\\vert$$\n",
        "\n",
        "dependiendo de los valores $\\alpha_1, \\alpha_2, \\beta, \\gamma$ se define la clase de método aglomerativo. \n",
        "\n",
        "## **Métodos**\n",
        "\n",
        "### **Single Linkage**\n",
        "\n",
        "Consiste en la elección $\\alpha_1 = \\alpha_2 = 0.5$, $\\beta=0$ y $\\gamma = -0.5$. Obteniendo \n",
        "\n",
        "$$d(C_{1},C_2) =\\min_{c_1 \\in C_1, c_2 \\in C_2} d(c_1,c_2)$$\n",
        "\n",
        "### **Complete Linkage**\n",
        "\n",
        "Consiste en la elección $\\alpha_1 = \\alpha_2 = \\gamma = 0.5$, $\\beta=0$ \n",
        "\n",
        "$$d(C_{1},C_2) =\\max_{c_1 \\in C_1, c_2 \\in C_2} d(c_1,c_2)$$\n",
        "\n",
        "\n",
        "### **Average Linkage**\n",
        "\n",
        "Consiste en la elección $\\alpha_1 = \\frac{\\vert C_1\\vert}{\\vert C_1\\vert + \\vert C_2\\vert}$, $\\alpha_1 = \\frac{\\vert C_2\\vert}{\\vert C_1\\vert + \\vert C_2\\vert}$, $\\beta=0$ \n",
        "\n",
        "Obteniendo \n",
        "\n",
        "$$d(C_{1},C_2) =\\frac{\\sum_{c_1\\in C_1}\\sum_{c_2\\in C_2} d(c_1,c_2)}{\\vert C_1 \\vert \\vert C_2\\vert}$$\n",
        "\n",
        "### **Método Ward's**\n",
        "\n",
        "Consiste en la elección $\\alpha_1 = \\frac{\\vert C_1\\vert+\\vert C_3\\vert}{\\vert C_1\\vert + \\vert C_2\\vert+\\vert C_3\\vert}$, $\\alpha_2 = \\frac{\\vert C_2\\vert+\\vert C_3\\vert}{\\vert C_1\\vert + \\vert C_2\\vert+\\vert C_3\\vert}$, $\\beta=\\frac{-\\vert C_3\\vert}{\\vert C_1\\vert + \\vert C_2\\vert+\\vert C_3\\vert}$ \n",
        "\n",
        "Obteniendo \n",
        "\n",
        "$$d(C_{1},C_2) = d(\\bar{x}_{C_1},\\bar{x}_{C_2})$$\n",
        "donde $\\bar{x}_{C_i} = \\bar{C_i}$ con $i=1,2$\n",
        "\n",
        "En el siguiente link podemos encontrar un ejemplo numérico \n",
        "\n",
        "https://people.revoledu.com/kardi/tutorial/Clustering/Numerical%20Example.htm\n",
        "\n",
        "## **Paquetes en Python**\n",
        "\n",
        "- `AgglomerativeClustering` en `sklearn.cluster`"
      ]
    },
    {
      "cell_type": "markdown",
      "metadata": {
        "id": "nigWfRsWQJ0x"
      },
      "source": [
        "## AglomerativeClustering\n",
        "\n",
        "### **Parámetros:** \n",
        "\n",
        "- **n_cluster:** número de clusters\n",
        "- **affinity:** distancia utilizara para el linkage. Puede ser `euclidean`, `l1`, `l2`, `manhattan`, `cosine`, o `precomputed`. Si el linkage es `ward`, solo se puede utilizar “euclidean”. Si la distancia es “precomputed”, se necesario como input una matriz de disimilaridad para el fit\n",
        "- **linkage:** Puede ser `ward`, `complete`, `average`, `single`. Por defecto se elige `ward`"
      ]
    },
    {
      "cell_type": "code",
      "metadata": {
        "id": "GmdQnD9tOSlB"
      },
      "source": [
        "from sklearn.cluster import AgglomerativeClustering\n",
        "from sklearn.datasets import load_breast_cancer\n",
        "from sklearn.model_selection import train_test_split \n",
        "from sklearn.preprocessing import StandardScaler\n",
        "from sklearn.metrics import confusion_matrix\n",
        "from sklearn.metrics import accuracy_score\n",
        "import matplotlib.pyplot as plt\n",
        "import numpy as np\n",
        "\n",
        "data = load_breast_cancer()\n",
        "X = data.data\n",
        "y = data.target\n",
        "\n",
        "X_train, X_test, y_train, y_test = train_test_split(X, y, test_size = 0.4, random_state=0)\n",
        "\n",
        "sc = StandardScaler()\n",
        "# Los datos son reescalado con respecto a los datos de entrenamiento\n",
        "sc.fit(X_train) \n",
        "# Tanto el conjunto de entrenamiento como el de test son reescalados\n",
        "Z_train = sc.transform(X_train)\n",
        "Z_test = sc.transform(X_test)"
      ],
      "execution_count": null,
      "outputs": []
    },
    {
      "cell_type": "code",
      "metadata": {
        "id": "xiUm35oYSwZp"
      },
      "source": [
        "clustering = AgglomerativeClustering().fit(Z_train)"
      ],
      "execution_count": null,
      "outputs": []
    },
    {
      "cell_type": "code",
      "metadata": {
        "id": "QnIpQZTLTCSU"
      },
      "source": [
        "y_pred = clustering.fit_predict(Z_test)"
      ],
      "execution_count": null,
      "outputs": []
    },
    {
      "cell_type": "code",
      "metadata": {
        "colab": {
          "base_uri": "https://localhost:8080/"
        },
        "id": "MG9PBlj3TkB0",
        "outputId": "6aa631c4-e18c-4a0a-e40c-333419db5b47"
      },
      "source": [
        "print(\"accuracy train\",round(accuracy_score(y_train, clustering.fit_predict(Z_train)),3))\n",
        "print(\"accuracy test\",round(accuracy_score(y_test, y_pred),3))"
      ],
      "execution_count": null,
      "outputs": [
        {
          "output_type": "stream",
          "text": [
            "accuracy train 0.921\n",
            "accuracy test 0.86\n"
          ],
          "name": "stdout"
        }
      ]
    },
    {
      "cell_type": "code",
      "metadata": {
        "colab": {
          "base_uri": "https://localhost:8080/"
        },
        "id": "uEBVYTPyUBK4",
        "outputId": "a3d38a25-b31e-485f-df09-f6123734c71b"
      },
      "source": [
        "confusion_matrix(y_test, y_pred)"
      ],
      "execution_count": null,
      "outputs": [
        {
          "output_type": "execute_result",
          "data": {
            "text/plain": [
              "array([[ 61,  22],\n",
              "       [ 10, 135]])"
            ]
          },
          "metadata": {},
          "execution_count": 41
        }
      ]
    },
    {
      "cell_type": "markdown",
      "metadata": {
        "id": "P5Fu8neZhO5W"
      },
      "source": [
        "## **Plotear dendrograma**\n",
        "\n",
        "Para plotear utilizamos `dendrogram` de scipy. \n",
        "\n",
        "Con el siguiente codigo podemos plotear el modelo obtenido por sklearn. \n",
        "\n",
        "https://scikit-learn.org/stable/auto_examples/cluster/plot_agglomerative_dendrogram.html\n"
      ]
    },
    {
      "cell_type": "code",
      "metadata": {
        "id": "5g0X2sEwU3zG"
      },
      "source": [
        "from scipy.cluster.hierarchy import dendrogram"
      ],
      "execution_count": null,
      "outputs": []
    },
    {
      "cell_type": "code",
      "metadata": {
        "id": "AycZNVWAgb0m"
      },
      "source": [
        "def plot_dendrogram(model, **kwargs):\n",
        "    # Create linkage matrix and then plot the dendrogram\n",
        "\n",
        "    # create the counts of samples under each node\n",
        "    counts = np.zeros(model.children_.shape[0])\n",
        "    n_samples = len(model.labels_)\n",
        "    for i, merge in enumerate(model.children_):\n",
        "        current_count = 0\n",
        "        for child_idx in merge:\n",
        "            if child_idx < n_samples:\n",
        "                current_count += 1  # leaf node\n",
        "            else:\n",
        "                current_count += counts[child_idx - n_samples]\n",
        "        counts[i] = current_count\n",
        "\n",
        "    linkage_matrix = np.column_stack([model.children_, model.distances_, counts]).astype(float)\n",
        "\n",
        "    # Plot the corresponding dendrogram\n",
        "    dendrogram(linkage_matrix, **kwargs)"
      ],
      "execution_count": null,
      "outputs": []
    },
    {
      "cell_type": "code",
      "metadata": {
        "colab": {
          "base_uri": "https://localhost:8080/",
          "height": 298
        },
        "id": "hXsdaGWfhAzh",
        "outputId": "590c5a4d-6f82-46b3-a5c0-9b34089b25d9"
      },
      "source": [
        "model = AgglomerativeClustering(distance_threshold=0, n_clusters=None)\n",
        "\n",
        "model = model.fit(X_train)\n",
        "plt.title('Hierarchical Clustering Dendrogram')\n",
        "# plot the top three levels of the dendrogram\n",
        "plot_dendrogram(model, truncate_mode='level', p=2)\n",
        "plt.xlabel(\"Number of points in node (or index of point if no parenthesis).\")\n",
        "plt.show()"
      ],
      "execution_count": null,
      "outputs": [
        {
          "output_type": "display_data",
          "data": {
            "image/png": "[encoded data removed]",
            "text/plain": [
              "<Figure size 432x288 with 1 Axes>"
            ]
          },
          "metadata": {
            "needs_background": "light"
          }
        }
      ]
    },
    {
      "cell_type": "markdown",
      "metadata": {
        "id": "NIlqQiZ5mK3B"
      },
      "source": [
        "`scipy` tiene un paquete llamado `hierarchy` el cual contiene varias herramientas para clustering jerarquico. "
      ]
    },
    {
      "cell_type": "code",
      "metadata": {
        "id": "atYGcGmvk1Tc"
      },
      "source": [
        "import scipy.cluster.hierarchy as shc"
      ],
      "execution_count": null,
      "outputs": []
    },
    {
      "cell_type": "code",
      "metadata": {
        "colab": {
          "base_uri": "https://localhost:8080/",
          "height": 268
        },
        "id": "LqkXRivimrPU",
        "outputId": "672476ae-3eb9-42ca-a68a-620d65accd6c"
      },
      "source": [
        "Z = shc.linkage(X_train, 'ward')\n",
        "dn = dendrogram(Z, p=2,truncate_mode=\"level\")"
      ],
      "execution_count": null,
      "outputs": [
        {
          "output_type": "display_data",
          "data": {
            "image/png": "[encoded data removed]",
            "text/plain": [
              "<Figure size 432x288 with 1 Axes>"
            ]
          },
          "metadata": {
            "needs_background": "light"
          }
        }
      ]
    },
    {
      "cell_type": "markdown",
      "metadata": {
        "id": "Db5IvnXuorzq"
      },
      "source": [
        "Aquí podemos ver todas las funciones del paquete\n",
        "\n",
        "https://docs.scipy.org/doc/scipy/reference/cluster.hierarchy.html#module-scipy.cluster.hierarchy"
      ]
    },
    {
      "cell_type": "markdown",
      "metadata": {
        "id": "8hSyFxsQquyK"
      },
      "source": [
        "#**Clustering Jerárquico Divisivo**\n",
        "\n",
        "Estos métodos casi no se utilizan en la vida real. Tanto sklearn como scipy no tienen implementado ningun algoritmo divisivo. \n",
        "\n",
        "En el siguiente link podemos ver una implementación del algoritmo DIANA en Python\n",
        "\n",
        "https://github.com/Saikat2019/DIANA-Clustering-Algorithm\n",
        "\n",
        "**Observación:** DIANA y MONA están implementados en R. Podemos verlos en el apunte de clustering en R (https://bastian951.github.io/ClusteringR/diana.html)"
      ]
    },
    {
      "cell_type": "markdown",
      "metadata": {
        "id": "Om-soI5QtG6w"
      },
      "source": [
        "# **Scatter plot**\n",
        "\n",
        "Para graficar los puntos y colorear por cluster podemos utilizar PCA y plotear las dos primeras componentes principales. \n"
      ]
    },
    {
      "cell_type": "code",
      "metadata": {
        "id": "Ug_xnC_2q0Ie"
      },
      "source": [
        "from sklearn.decomposition import PCA\n",
        "import pandas as pd\n",
        "\n",
        "pca = PCA(n_components=2)\n",
        "df_fit = pca.fit(X_train)\n",
        "pca_train = df_fit.transform(X_train)\n",
        "pca_train = pd.DataFrame(pca_train)\n",
        "pca_train.columns = ['P1', 'P2']"
      ],
      "execution_count": null,
      "outputs": []
    },
    {
      "cell_type": "code",
      "metadata": {
        "colab": {
          "base_uri": "https://localhost:8080/",
          "height": 281
        },
        "id": "Nr54UrfFuoj9",
        "outputId": "90c0411f-1696-4588-955c-71697a5b73a6"
      },
      "source": [
        "agc = AgglomerativeClustering(n_clusters = 2)\n",
        "plt.scatter(pca_train['P1'], pca_train['P2'], c = agc.fit_predict(pca_train), cmap ='rainbow')\n",
        "plt.title(\"Scatter Plot - Cluster Jerárquico Aglomerativo\")\n",
        "plt.show() "
      ],
      "execution_count": null,
      "outputs": [
        {
          "output_type": "display_data",
          "data": {
            "image/png": "[encoded data removed]",
            "text/plain": [
              "<Figure size 432x288 with 1 Axes>"
            ]
          },
          "metadata": {
            "needs_background": "light"
          }
        }
      ]
    },
    {
      "cell_type": "markdown",
      "metadata": {
        "id": "H5ZNy7nuwaD8"
      },
      "source": [
        "otra opción, sería calcular el PCA, considerar todas las componentes principales y aplicar TSNE para reducir la dimensionalidad a 2"
      ]
    },
    {
      "cell_type": "markdown",
      "metadata": {
        "id": "g8mK7R0nSbKM"
      },
      "source": [
        "**Observación:** K-means es un algoritmo no jerarquico, sin embargo existe una versión jerarquica divisiva llamada `bisecting k-means`.\n",
        "\n",
        "*Vease el paper original*\n",
        "\n",
        "http://www.philippe-fournier-viger.com/spmf/bisectingkmeans.pdf\n",
        "\n",
        "*Vease posible adición a Sklearn*\n",
        "\n",
        "https://github.com/scikit-learn/scikit-learn/pull/20031"
      ]
    }
  ]
}