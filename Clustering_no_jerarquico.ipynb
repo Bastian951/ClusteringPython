{
  "nbformat": 4,
  "nbformat_minor": 0,
  "metadata": {
    "colab": {
      "name": "Clustering_no_jerarquico.ipynb",
      "provenance": [],
      "collapsed_sections": [],
      "authorship_tag": "ABX9TyNm3nNkM7RL8pbYSDdrVlE2",
      "include_colab_link": true
    },
    "kernelspec": {
      "name": "python3",
      "display_name": "Python 3"
    },
    "language_info": {
      "name": "python"
    }
  },
  "cells": [
    {
      "cell_type": "markdown",
      "metadata": {
        "id": "view-in-github",
        "colab_type": "text"
      },
      "source": [
        "<a href=\"https://colab.research.google.com/github/Bastian951/ClusteringPython/blob/master/Clustering_no_jerarquico.ipynb\" target=\"_parent\"><img src=\"https://colab.research.google.com/assets/colab-badge.svg\" alt=\"Open In Colab\"/></a>"
      ]
    },
    {
      "cell_type": "markdown",
      "metadata": {
        "id": "NdN6FIorSUu2"
      },
      "source": [
        "#**Clustering no Jerárquico**\n",
        "\n",
        "El clustering jerárquico es bastante intuitivo y fácil de implementar. En este sentido la clase de métodos no jerárquicos son mas complejos y contra-intuitivos, ademas el número de cluster se debe elegir antes de aplicar el algoritmo. Hay dos ventajas de usar estos métodos\n",
        "\n",
        "- No requieren matriz de distancias. Lo cual ahorra tiempo y memoria, pues para $n$ grande trabajar con una matriz de $(n \\times n)$ es costoso. \n",
        "- En los métodos jerárquicos dos unidades que se separan en 2 clusters no pueden volver a ser unidas en los pasos siguientes. Por lo que los pasos dependen de los pasos anteriores. Lo cual contradice el pensamiento humano. \n",
        "\n",
        "## **K-means**\n",
        "\n",
        "K-means es uno de los algoritmos no jerarquicos mas usados. Puede ser usado cuando todas las variables son cuantitativas. Elige la mejor partición de $n$ unidades en $k$ clusters.  Para definir el concepto de la mejor partición  descomponemos la suma de cuadrados ($T$) en la suma de dos terminos. La suma de cuadrados dentro del cluster ($W$) y la suma de cuadrados entre los clusters ($B$).\n",
        "\n",
        "$$T = W+B$$\n",
        "\n",
        "- $\\displaystyle T = \\sum_{i=1}^n\\sum_{j=1}^{p} (x_{ij}-\\bar{x}_j)^2$\n",
        "- $\\displaystyle W = \\sum_{g=1}^k W_g$ con $\\displaystyle  W_g = \\sum_{i=1}^{n_g}\\sum_{j=1}^p(x_{ij}-\\bar{x}_{ij})^2$\n",
        "- $\\displaystyle B = \\sum_{g=1}^{k}n_g(\\bar{x}_{gj}-\\bar{x}_j)^2$\n",
        "\n",
        "$W$ permite evaluar la calidad de la partición, se sigue que la mejor partición se obtiene de \n",
        "\n",
        "$$\\min W$$ o de forma equivalente \n",
        "\n",
        "$$\\max B$$\n",
        "\n",
        "Se puede expresar de manera equivalente como un problema de optimización con restricciones.\n",
        "\n",
        "$$\\min_{\\mathbf{U,H}} \\sum_{i=1}^n\\sum_{g=1}^k\\sum_{j=1}^p u_{ig}(x_{ij}-h_{gj})^2= \\sum_{i=1}^n\\sum_{g=1}^k u_{ig}d^2(\\mathbf{x}_i, \\mathbf{h}_g)$$\n",
        "\n",
        "$$sa \\hspace{1cm} u_{ig} \\in \\{0,1 \\},\\hspace{1cm} i=1,2,\\cdots,n \\hspace{1cm} g = 1,2,\\cdots, k$$\n",
        "\n",
        "$$\\sum_{g=1}^k u_{ig} = 1,\\hspace{1cm} i=1,2,\\cdots,n $$\n",
        "\n",
        "Donde $U$ de orden $(n \\times k)$ es una matriz binaria donde cada fila suma 1. La fila \n",
        "$n$ toma el valor 1 en la columna $g$ si el valor $n-esimo$ pertenece al cluster $g$. La matriz $H$ es la matriz de centroides $(k \\times p)$ con filas $(h_{g1},\\cdots, h_{gp}), g=1,2,\\cdots,k$. \n",
        "\n",
        "La solución óptima se obtiene con el siguiente algoritmo iterativo\n",
        "\n",
        "1. Se eligen $k$ centroides (aleatoria o racionalmente). Es decir, se escoge la matriz de centroides $H$\n",
        "2. Dado $H$ se asigna a cada unidad el cluster que tiene distancia minima al centroide \n",
        "\n",
        "$$u_{ig} = \\left\\{\\begin{matrix}  \\displaystyle 1,& \\text{ si } g=arg\\min_{g'=1,\\cdots,k}\\, d^2(\\mathbf{x}_i, \\mathbf{h}_{g'}) \\\\ 0, &\\text{ otro caso }\\end{matrix}\\right.$$\n",
        "para $i=1,2,\\cdots, n$ y $g=1,2,\\cdots,k$.\n",
        "3. Dado $U$, calculamos los centroides\n",
        "\n",
        "$$h_g = \\frac{\\displaystyle \\sum_{i=1}^n u_{ig}\\mathbf{x}_i}{\\displaystyle \\sum_{i=1}^n u_{ig}}$$\n",
        "\n",
        "4. Repetimos los pasos 2 y 3 hasta que no haya cambios en 2 iteraciones. \n",
        "\n",
        "Podemos relajar el criterio de convergencia fijando un número máximo de iteraciones. Notemos que la convergencia no asegura que encontramos la partición que minimiza $W$, por lo que es común realizar el algoritmo mas de una vez con distintas matrices iniciales. \n"
      ]
    },
    {
      "cell_type": "markdown",
      "metadata": {
        "id": "Xo45PB-TTj84"
      },
      "source": [
        "## **K-means en Sklearn**"
      ]
    },
    {
      "cell_type": "code",
      "metadata": {
        "id": "T8hx2IZyw4LT"
      },
      "source": [
        "from sklearn.cluster import KMeans\n",
        "from sklearn.datasets import load_breast_cancer\n",
        "from sklearn.model_selection import train_test_split \n",
        "from sklearn.preprocessing import StandardScaler\n",
        "from sklearn.metrics import confusion_matrix\n",
        "from sklearn.metrics import accuracy_score\n",
        "import matplotlib.pyplot as plt\n",
        "import numpy as np\n",
        "\n",
        "data = load_breast_cancer()\n",
        "X = data.data\n",
        "y = data.target\n",
        "\n",
        "X_train, X_test, y_train, y_test = train_test_split(X, y, test_size = 0.4, random_state=0)\n",
        "\n",
        "sc = StandardScaler()\n",
        "# Los datos son reescalado con respecto a los datos de entrenamiento\n",
        "sc.fit(X_train) \n",
        "# Tanto el conjunto de entrenamiento como el de test son reescalados\n",
        "Z_train = sc.transform(X_train)\n",
        "Z_test = sc.transform(X_test)"
      ],
      "execution_count": null,
      "outputs": []
    },
    {
      "cell_type": "code",
      "metadata": {
        "id": "G_kx-eXWT-da"
      },
      "source": [
        "kmeans = KMeans(n_clusters=2, random_state=0).fit(Z_train)"
      ],
      "execution_count": null,
      "outputs": []
    },
    {
      "cell_type": "code",
      "metadata": {
        "id": "3tVLoLYUUUJt"
      },
      "source": [
        "y_pred = kmeans.predict(Z_test)"
      ],
      "execution_count": null,
      "outputs": []
    },
    {
      "cell_type": "code",
      "metadata": {
        "colab": {
          "base_uri": "https://localhost:8080/"
        },
        "id": "Gy79NtjIUYOJ",
        "outputId": "78d8900d-c54c-48d1-a30b-faa5fdb97a1b"
      },
      "source": [
        "print(\"accuracy train\",round(accuracy_score(y_train,kmeans.predict(Z_train)),3))\n",
        "print(\"accuracy test\",round(accuracy_score(y_test, y_pred),3))"
      ],
      "execution_count": null,
      "outputs": [
        {
          "output_type": "stream",
          "text": [
            "accuracy train 0.909\n",
            "accuracy test 0.904\n"
          ],
          "name": "stdout"
        }
      ]
    },
    {
      "cell_type": "code",
      "metadata": {
        "colab": {
          "base_uri": "https://localhost:8080/"
        },
        "id": "vKFi07CfUmKp",
        "outputId": "5f5de83e-7922-49a4-e73f-da13868c8d73"
      },
      "source": [
        "confusion_matrix(y_test, y_pred)"
      ],
      "execution_count": null,
      "outputs": [
        {
          "output_type": "execute_result",
          "data": {
            "text/plain": [
              "array([[ 68,  15],\n",
              "       [  7, 138]])"
            ]
          },
          "metadata": {},
          "execution_count": 12
        }
      ]
    },
    {
      "cell_type": "markdown",
      "metadata": {
        "id": "rW-IGTuhWK17"
      },
      "source": [
        "# **Elegir número de clusters**\n",
        "Este método utiliza los valores de la inercia obtenidos tras aplicar el K-means a diferente número de Clusters (desde 1 a N Clusters), siendo la inercia la suma de las distancias al cuadrado de cada objeto del Cluster a su centroide.\n",
        "\n",
        "En esta gráfica se debería de apreciar un cambio brusco en la evolución de la inercia, teniendo la línea representada una forma similar a la de un brazo y su codo. El punto en el que se observa ese cambio brusco en la inercia nos dirá el número óptimo de Clusters a seleccionar para ese data set; o dicho de otra manera: el punto que representaría al codo del brazo será el número óptimo de Clusters para ese data set. "
      ]
    },
    {
      "cell_type": "code",
      "metadata": {
        "colab": {
          "base_uri": "https://localhost:8080/",
          "height": 295
        },
        "id": "VsZqne56U01p",
        "outputId": "4bcda6fc-84a4-4a12-a028-86922c29a36c"
      },
      "source": [
        "Nc = range(1, 20)\n",
        "kmeans = [KMeans(n_clusters=i) for i in Nc]\n",
        "score = [kmeans[i].fit(Z_train).inertia_ for i in range(len(kmeans))]\n",
        "plt.plot(Nc,score)\n",
        "plt.xlabel('Number of Clusters')\n",
        "plt.ylabel('Score')\n",
        "plt.title('Regla del codo')\n",
        "plt.show()"
      ],
      "execution_count": null,
      "outputs": [
        {
          "output_type": "display_data",
          "data": {
            "image/png": "[encoded data removed]",
            "text/plain": [
              "<Figure size 432x288 with 1 Axes>"
            ]
          },
          "metadata": {
            "needs_background": "light"
          }
        }
      ]
    },
    {
      "cell_type": "markdown",
      "metadata": {
        "id": "LbjZg6RSYHLP"
      },
      "source": [
        "## **K-medoids**"
      ]
    },
    {
      "cell_type": "code",
      "metadata": {
        "id": "aYOc7EABY7Hh"
      },
      "source": [
        "#pip install scikit-learn-extra\n",
        "#conda install -c conda-forge scikit-learn-extra"
      ],
      "execution_count": null,
      "outputs": []
    },
    {
      "cell_type": "code",
      "metadata": {
        "id": "2S02EPuLYYca"
      },
      "source": [
        "from sklearn_extra.cluster import KMedoids"
      ],
      "execution_count": null,
      "outputs": []
    },
    {
      "cell_type": "code",
      "metadata": {
        "id": "yZPN1DcvY1aM"
      },
      "source": [
        "kmedoids = KMedoids(n_clusters=2, random_state=0).fit(Z_train)"
      ],
      "execution_count": null,
      "outputs": []
    },
    {
      "cell_type": "code",
      "metadata": {
        "id": "qIk04fwTZEJr"
      },
      "source": [
        "y_pred_medoids = kmedoids.predict(Z_test)"
      ],
      "execution_count": null,
      "outputs": []
    },
    {
      "cell_type": "code",
      "metadata": {
        "colab": {
          "base_uri": "https://localhost:8080/"
        },
        "id": "TYEAxinVZLfk",
        "outputId": "67a36f71-8eb0-4918-8445-85ff3db4dcb5"
      },
      "source": [
        "print(\"accuracy train\",round(accuracy_score(y_train,kmedoids.predict(Z_train)),3))\n",
        "print(\"accuracy test\",round(accuracy_score(y_test, y_pred_medoids),3))"
      ],
      "execution_count": null,
      "outputs": [
        {
          "output_type": "stream",
          "text": [
            "accuracy train 0.941\n",
            "accuracy test 0.899\n"
          ],
          "name": "stdout"
        }
      ]
    },
    {
      "cell_type": "code",
      "metadata": {
        "colab": {
          "base_uri": "https://localhost:8080/"
        },
        "id": "chSdGrVrZSYr",
        "outputId": "7a6109a9-87c7-4722-fc4e-7c2a88769536"
      },
      "source": [
        "confusion_matrix(y_test, y_pred_medoids)"
      ],
      "execution_count": null,
      "outputs": [
        {
          "output_type": "execute_result",
          "data": {
            "text/plain": [
              "array([[ 69,  14],\n",
              "       [  9, 136]])"
            ]
          },
          "metadata": {},
          "execution_count": 27
        }
      ]
    },
    {
      "cell_type": "markdown",
      "metadata": {
        "id": "tmMUjkGrZlk3"
      },
      "source": [
        "# **Scatter plot**\n",
        "\n",
        "Para graficar los puntos y colorear por cluster podemos utilizar PCA y plotear las dos primeras componentes principales. "
      ]
    },
    {
      "cell_type": "code",
      "metadata": {
        "id": "o3LAFIZwZVp2"
      },
      "source": [
        "from sklearn.decomposition import PCA\n",
        "import pandas as pd\n",
        "\n",
        "pca = PCA(n_components=2)\n",
        "df_fit = pca.fit(X_train)\n",
        "pca_train = df_fit.transform(X_train)\n",
        "pca_train = pd.DataFrame(pca_train)\n",
        "pca_train.columns = ['P1', 'P2']"
      ],
      "execution_count": null,
      "outputs": []
    },
    {
      "cell_type": "code",
      "metadata": {
        "colab": {
          "base_uri": "https://localhost:8080/",
          "height": 281
        },
        "id": "EIeGI0hPZnrL",
        "outputId": "cca2abc5-5279-4661-cb8b-f0c73ddff842"
      },
      "source": [
        "plt.scatter(pca_train['P1'], pca_train['P2'], c = kmeans.predict(Z_train), cmap ='rainbow')\n",
        "plt.title(\"Scatter Plot - K-means\")\n",
        "plt.show() "
      ],
      "execution_count": null,
      "outputs": [
        {
          "output_type": "display_data",
          "data": {
            "image/png": "[encoded data removed]",
            "text/plain": [
              "<Figure size 432x288 with 1 Axes>"
            ]
          },
          "metadata": {
            "needs_background": "light"
          }
        }
      ]
    },
    {
      "cell_type": "code",
      "metadata": {
        "id": "wqcv6pRdZua0"
      },
      "source": [
        ""
      ],
      "execution_count": null,
      "outputs": []
    }
  ]
}